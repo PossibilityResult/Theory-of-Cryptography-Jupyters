{
 "cells": [
  {
   "cell_type": "markdown",
   "metadata": {},
   "source": [
    "### Greatest Common Denominator and the Extended Euclid Algorithm"
   ]
  },
  {
   "cell_type": "markdown",
   "metadata": {},
   "source": [
    "Extended Euclid takes as input two positive integers a, b and returns a tuple of integers which can help find the greatest common denominator of a and b i.e., gcd(a, b) = a x + b y.\n",
    "\n"
   ]
  },
  {
   "cell_type": "code",
   "execution_count": 9,
   "metadata": {},
   "outputs": [],
   "source": [
    "from typing import Tuple\n",
    "\n",
    "def ExtendedEuclid(a : int, b : int) -> Tuple[int, int]:\n",
    "    assert a >= b\n",
    "    assert b > 0\n",
    "    \n",
    "    if a % b == 0:\n",
    "        print(0, 1)\n",
    "        return 0, 1\n",
    "\n",
    "    else:\n",
    "        # Let a = b * q + r for r in {1, ..., b - 1}\n",
    "        q = int(a / b)\n",
    "        r = a % b\n",
    "        x_prime, y_prime = ExtendedEuclid(b, r)\n",
    "        print(y_prime, x_prime - q * y_prime)\n",
    "        return (y_prime, x_prime - q * y_prime)\n"
   ]
  },
  {
   "cell_type": "code",
   "execution_count": 10,
   "metadata": {},
   "outputs": [],
   "source": [
    "def GreatestCommonDenominator(a : int, b : int) -> int:\n",
    "    assert a >= b\n",
    "    assert b > 0\n",
    "\n",
    "    x, y = ExtendedEuclid(a, b)\n",
    "    \n",
    "    print(a * x + b * y)\n",
    "    return a * x + b * y"
   ]
  },
  {
   "cell_type": "markdown",
   "metadata": {},
   "source": [
    "### Tests"
   ]
  },
  {
   "cell_type": "code",
   "execution_count": 11,
   "metadata": {},
   "outputs": [
    {
     "name": "stdout",
     "output_type": "stream",
     "text": [
      "0 1\n",
      "3\n",
      "\n",
      "\n",
      "0 1\n",
      "1 -1\n",
      "-1 2\n",
      "1\n",
      "\n",
      "\n",
      "0 1\n",
      "1 -1\n",
      "8\n"
     ]
    }
   ],
   "source": [
    "assert 3 == GreatestCommonDenominator(9, 3)\n",
    "print(\"\\n\")\n",
    "assert 1 == GreatestCommonDenominator(11, 6)\n",
    "print(\"\\n\")\n",
    "assert 8 == GreatestCommonDenominator(24, 16)"
   ]
  }
 ],
 "metadata": {
  "kernelspec": {
   "display_name": "Python 3.8.3 64-bit",
   "language": "python",
   "name": "python3"
  },
  "language_info": {
   "codemirror_mode": {
    "name": "ipython",
    "version": 3
   },
   "file_extension": ".py",
   "mimetype": "text/x-python",
   "name": "python",
   "nbconvert_exporter": "python",
   "pygments_lexer": "ipython3",
   "version": "3.8.3"
  },
  "orig_nbformat": 4,
  "vscode": {
   "interpreter": {
    "hash": "aee8b7b246df8f9039afb4144a1f6fd8d2ca17a180786b69acc140d282b71a49"
   }
  }
 },
 "nbformat": 4,
 "nbformat_minor": 2
}
